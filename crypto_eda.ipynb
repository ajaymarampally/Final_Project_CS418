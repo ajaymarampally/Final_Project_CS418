{
 "cells": [
  {
   "cell_type": "code",
   "execution_count": 18,
   "id": "e55ea0d4",
   "metadata": {},
   "outputs": [
    {
     "name": "stdout",
     "output_type": "stream",
     "text": [
      "Shape of data: (198, 26)\n",
      "       Unnamed: 0            id  num_market_pairs    max_supply  \\\n",
      "count         0.0    198.000000        198.000000  1.150000e+02   \n",
      "mean          NaN   3998.848485        236.126263  8.895310e+12   \n",
      "std           NaN   2314.100428       1400.863877  9.325228e+13   \n",
      "min           NaN      2.000000          4.000000  1.369800e+04   \n",
      "25%           NaN   2106.750000         33.250000  1.005863e+08   \n",
      "50%           NaN   3797.500000         59.000000  1.000000e+09   \n",
      "75%           NaN   5594.750000        145.500000  5.442695e+09   \n",
      "max           NaN  11156.000000      19181.000000  1.000000e+15   \n",
      "\n",
      "       circulating_supply  total_supply    cmc_rank         price  \\\n",
      "count        1.980000e+02  1.980000e+02  198.000000    198.000000   \n",
      "mean         5.700629e+12  8.145325e+12  101.388889   1236.219504   \n",
      "std          5.549450e+13  8.233036e+13   57.473943   8224.858212   \n",
      "min          1.682592e+04  1.682592e+04    2.000000      0.000002   \n",
      "25%          1.157150e+08  1.676305e+08   52.250000      0.510735   \n",
      "50%          5.453530e+08  1.000000e+09  101.500000      2.078657   \n",
      "75%          2.720899e+09  6.651539e+09  150.750000     18.310794   \n",
      "max          5.580000e+14  1.000000e+15  200.000000  65394.016880   \n",
      "\n",
      "         volume_24h  volume_change_24h  percent_change_1h  percent_change_24h  \\\n",
      "count  1.980000e+02         198.000000         198.000000          198.000000   \n",
      "mean   7.166319e+08           4.440329          -0.372728            0.505152   \n",
      "std    4.701157e+09         203.627438           1.248025            4.874288   \n",
      "min    6.595063e+05         -76.984000          -3.563533          -15.743659   \n",
      "25%    2.201819e+07         -34.553750          -0.791565           -1.259377   \n",
      "50%    7.939995e+07         -19.662100          -0.389053            0.239924   \n",
      "75%    2.735153e+08          -1.753875          -0.080784            1.769806   \n",
      "max    6.444446e+10        2775.157000          11.948335           24.615710   \n",
      "\n",
      "       percent_change_7d  percent_change_30d  percent_change_60d  \\\n",
      "count         198.000000          198.000000          198.000000   \n",
      "mean            6.574652           68.372655           80.522516   \n",
      "std            36.116271          371.866384          389.513123   \n",
      "min           -29.900980          -53.562724          -47.131037   \n",
      "25%            -5.767888            0.061480           -6.122373   \n",
      "50%            -0.063579           12.232867            8.128432   \n",
      "75%             5.832171           38.617561           41.116603   \n",
      "max           400.433654         5032.787579         4372.351630   \n",
      "\n",
      "       percent_change_90d    market_cap  market_cap_dominance  \\\n",
      "count          198.000000  1.980000e+02            198.000000   \n",
      "mean           164.916719  7.904493e+09              0.281427   \n",
      "std            921.223672  4.040779e+10              1.439599   \n",
      "min            -43.916461  2.714734e+08              0.009700   \n",
      "25%             -5.658352  5.176778e+08              0.018425   \n",
      "50%             17.176821  1.145269e+09              0.040800   \n",
      "75%             78.926025  3.657700e+09              0.130250   \n",
      "max          12122.884210  5.430000e+11             19.349700   \n",
      "\n",
      "       fully_diluted_market_cap  \n",
      "count              1.980000e+02  \n",
      "mean               1.115517e+10  \n",
      "std                4.232517e+10  \n",
      "min                2.714734e+08  \n",
      "25%                8.997297e+08  \n",
      "50%                2.223197e+09  \n",
      "75%                6.113233e+09  \n",
      "max                5.430000e+11  \n",
      "\n",
      "    Unnamed: 0    id             name symbol             slug  \\\n",
      "14         NaN  3717  Wrapped Bitcoin   WBTC  wrapped-bitcoin   \n",
      "\n",
      "    num_market_pairs                date_added  max_supply  \\\n",
      "14               171  2019-01-30T00:00:00.000Z         NaN   \n",
      "\n",
      "    circulating_supply  total_supply  ... percent_change_1h  \\\n",
      "14         239132.0816   239132.0816  ...          -0.38268   \n",
      "\n",
      "    percent_change_24h percent_change_7d  percent_change_30d  \\\n",
      "14            0.816943          5.870839           10.656039   \n",
      "\n",
      "    percent_change_60d  percent_change_90d    market_cap  \\\n",
      "14           38.581842           38.331817  1.563781e+10   \n",
      "\n",
      "    market_cap_dominance  fully_diluted_market_cap            last_updated.1  \n",
      "14                0.5567              1.563781e+10  2021-11-14T08:47:07.000Z  \n",
      "\n",
      "[1 rows x 26 columns]\n",
      "The cryptocurrency with the highest price is Wrapped Bitcoin\n",
      "\n",
      "These are top 5 cryptocurrencies in terms of market cap--\n",
      "0        Ethereum\n",
      "1    Binance Coin\n",
      "2          Tether\n",
      "3          Solana\n",
      "4         Cardano\n",
      "Name: name, dtype: object\n"
     ]
    }
   ],
   "source": [
    "import pandas as pd\n",
    "import numpy as np\n",
    "import matplotlib.pyplot as plt\n",
    "\n",
    "df = pd.read_csv(\"crypto_api_data.csv\")\n",
    "\n",
    "print('Shape of data: {}'.format(df.shape))\n",
    "print(df.describe())\n",
    "by_price = df.sort_values('price', ascending =False)\n",
    "print()\n",
    "print(by_price.iloc[:1])\n",
    "print('The cryptocurrency with the highest price is Wrapped Bitcoin')\n",
    "print()\n",
    "print('These are top 5 cryptocurrencies in terms of market cap--')\n",
    "print(df.iloc[:5, 2])"
   ]
  },
  {
   "cell_type": "code",
   "execution_count": 24,
   "id": "d8d1a3a0",
   "metadata": {},
   "outputs": [
    {
     "data": {
      "text/plain": [
       "Text(0.5, 1.0, 'Number of Market Pairs Amongst Cryptocurrencies')"
      ]
     },
     "execution_count": 24,
     "metadata": {},
     "output_type": "execute_result"
    },
    {
     "data": {
      "image/png": "[encoded data removed]",
      "text/plain": [
       "<Figure size 432x288 with 1 Axes>"
      ]
     },
     "metadata": {
      "needs_background": "light"
     },
     "output_type": "display_data"
    }
   ],
   "source": [
    "bins_list= [0,50,100,150,200,250, 500,750,1000,1250,1500,1750,2000]\n",
    "df.hist(column='num_market_pairs', bins=bins_list)\n",
    "plt.xlabel('Number of Market Pairs')\n",
    "plt.ylabel('Frequency')\n",
    "plt.title('Number of Market Pairs Amongst Cryptocurrencies')"
   ]
  },
  {
   "cell_type": "code",
   "execution_count": null,
   "id": "2ed949be",
   "metadata": {},
   "outputs": [],
   "source": []
  }
 ],
 "metadata": {
  "kernelspec": {
   "display_name": "Python 3",
   "language": "python",
   "name": "python3"
  },
  "language_info": {
   "codemirror_mode": {
    "name": "ipython",
    "version": 3
   },
   "file_extension": ".py",
   "mimetype": "text/x-python",
   "name": "python",
   "nbconvert_exporter": "python",
   "pygments_lexer": "ipython3",
   "version": "3.8.8"
  }
 },
 "nbformat": 4,
 "nbformat_minor": 5
}
